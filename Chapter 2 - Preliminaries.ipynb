{
 "cells": [
  {
   "cell_type": "markdown",
   "id": "99defc97",
   "metadata": {},
   "source": [
    "## Data Manipulation"
   ]
  },
  {
   "cell_type": "markdown",
   "id": "fa07d245",
   "metadata": {},
   "source": [
    "n-dimensional array aka tensor\n",
    "\n",
    "similar to ndarray from numpy with some killer features. \n",
    " - gpu suppoted to accelerate the coputation\n",
    " - tensor class supports automatic differentiation\n",
    " \n",
    " hence widely used for deep learning"
   ]
  },
  {
   "cell_type": "markdown",
   "id": "ca8535bc",
   "metadata": {},
   "source": [
    " Level | Level for Humans | Level Description                  \n",
    " -------|------------------|------------------------------------ \n",
    "  0     | DEBUG            | [Default] Print all messages       \n",
    "  1     | INFO             | Filter out INFO messages           \n",
    "  2     | WARNING          | Filter out INFO & WARNING messages \n",
    "  3     | ERROR            | Filter out all messages      "
   ]
  },
  {
   "cell_type": "code",
   "execution_count": 28,
   "id": "5049b477",
   "metadata": {},
   "outputs": [],
   "source": [
    "import tensorflow as tf\n",
    "tf.get_logger().setLevel('INFO')"
   ]
  },
  {
   "cell_type": "markdown",
   "id": "a41ffcd0",
   "metadata": {},
   "source": [
    "1 axis tensor = vector\n",
    "\n",
    "2 axis tensors = matrix\n",
    "\n",
    "3 or more axis = no mathematical name."
   ]
  },
  {
   "cell_type": "code",
   "execution_count": 29,
   "id": "502905f2",
   "metadata": {},
   "outputs": [
    {
     "data": {
      "text/plain": [
       "<tf.Tensor: shape=(12,), dtype=int32, numpy=array([ 0,  1,  2,  3,  4,  5,  6,  7,  8,  9, 10, 11], dtype=int32)>"
      ]
     },
     "execution_count": 29,
     "metadata": {},
     "output_type": "execute_result"
    }
   ],
   "source": [
    "x = tf.range(12)\n",
    "x"
   ]
  },
  {
   "cell_type": "code",
   "execution_count": 30,
   "id": "0a35a861",
   "metadata": {},
   "outputs": [
    {
     "data": {
      "text/plain": [
       "TensorShape([12])"
      ]
     },
     "execution_count": 30,
     "metadata": {},
     "output_type": "execute_result"
    }
   ],
   "source": [
    "x.shape"
   ]
  },
  {
   "cell_type": "markdown",
   "id": "72b9401d",
   "metadata": {},
   "source": [
    "if we want total number of elements in the tensor, (multiplication of values in shape), use the following"
   ]
  },
  {
   "cell_type": "code",
   "execution_count": 31,
   "id": "1286de79",
   "metadata": {},
   "outputs": [
    {
     "data": {
      "text/plain": [
       "<tf.Tensor: shape=(), dtype=int32, numpy=12>"
      ]
     },
     "execution_count": 31,
     "metadata": {},
     "output_type": "execute_result"
    }
   ],
   "source": [
    "tf.size(x)"
   ]
  },
  {
   "cell_type": "code",
   "execution_count": 32,
   "id": "48def5fb",
   "metadata": {},
   "outputs": [
    {
     "data": {
      "text/plain": [
       "TensorShape([3, 4])"
      ]
     },
     "execution_count": 32,
     "metadata": {},
     "output_type": "execute_result"
    }
   ],
   "source": [
    "x = tf.reshape(x, (3, 4))\n",
    "x.shape"
   ]
  },
  {
   "cell_type": "markdown",
   "id": "61e52036",
   "metadata": {},
   "source": [
    "dont have to mention all dimensions in reshape function. put -1 in one value, tf will automatically find out the rest. "
   ]
  },
  {
   "cell_type": "code",
   "execution_count": 33,
   "id": "adbd5291",
   "metadata": {},
   "outputs": [
    {
     "data": {
      "text/plain": [
       "TensorShape([4, 3])"
      ]
     },
     "execution_count": 33,
     "metadata": {},
     "output_type": "execute_result"
    }
   ],
   "source": [
    "x = tf.reshape(x, (-1, 3))\n",
    "x.shape"
   ]
  },
  {
   "cell_type": "markdown",
   "id": "ad2dc54c",
   "metadata": {},
   "source": [
    "we can initialize with zero/constants/random samples from a distribution. \n",
    "\n",
    "can be done like below"
   ]
  },
  {
   "cell_type": "code",
   "execution_count": 34,
   "id": "37218546",
   "metadata": {},
   "outputs": [
    {
     "data": {
      "text/plain": [
       "<tf.Tensor: shape=(2, 3, 4), dtype=float32, numpy=\n",
       "array([[[0., 0., 0., 0.],\n",
       "        [0., 0., 0., 0.],\n",
       "        [0., 0., 0., 0.]],\n",
       "\n",
       "       [[0., 0., 0., 0.],\n",
       "        [0., 0., 0., 0.],\n",
       "        [0., 0., 0., 0.]]], dtype=float32)>"
      ]
     },
     "execution_count": 34,
     "metadata": {},
     "output_type": "execute_result"
    }
   ],
   "source": [
    "tf.zeros((2, 3, 4))"
   ]
  },
  {
   "cell_type": "code",
   "execution_count": 35,
   "id": "5a0dd177",
   "metadata": {},
   "outputs": [
    {
     "data": {
      "text/plain": [
       "<tf.Tensor: shape=(2, 3, 4), dtype=float32, numpy=\n",
       "array([[[1., 1., 1., 1.],\n",
       "        [1., 1., 1., 1.],\n",
       "        [1., 1., 1., 1.]],\n",
       "\n",
       "       [[1., 1., 1., 1.],\n",
       "        [1., 1., 1., 1.],\n",
       "        [1., 1., 1., 1.]]], dtype=float32)>"
      ]
     },
     "execution_count": 35,
     "metadata": {},
     "output_type": "execute_result"
    }
   ],
   "source": [
    "tf.ones((2, 3, 4))"
   ]
  },
  {
   "cell_type": "code",
   "execution_count": 36,
   "id": "9557ea06",
   "metadata": {},
   "outputs": [
    {
     "data": {
      "text/plain": [
       "<tf.Tensor: shape=(3, 4), dtype=float32, numpy=\n",
       "array([[ 0.74358493,  1.2950714 ,  0.17888027, -0.8747478 ],\n",
       "       [-0.28568903,  0.9913342 ,  1.000515  , -0.21819799],\n",
       "       [-0.36157808,  1.6532161 ,  0.41357896, -1.3824923 ]],\n",
       "      dtype=float32)>"
      ]
     },
     "execution_count": 36,
     "metadata": {},
     "output_type": "execute_result"
    }
   ],
   "source": [
    "tf.random.normal(shape = [3, 4])"
   ]
  },
  {
   "cell_type": "markdown",
   "id": "2b9c6d4c",
   "metadata": {},
   "source": [
    "we can also specify exact values using python lists or ndarrays. "
   ]
  },
  {
   "cell_type": "code",
   "execution_count": 37,
   "id": "510d89ba",
   "metadata": {},
   "outputs": [
    {
     "data": {
      "text/plain": [
       "<tf.Tensor: shape=(3, 3), dtype=int32, numpy=\n",
       "array([[1, 2, 3],\n",
       "       [4, 5, 6],\n",
       "       [7, 8, 9]], dtype=int32)>"
      ]
     },
     "execution_count": 37,
     "metadata": {},
     "output_type": "execute_result"
    }
   ],
   "source": [
    "tf.constant([[1, 2, 3], [4, 5, 6], [7, 8, 9]])"
   ]
  },
  {
   "cell_type": "markdown",
   "id": "a0f88908",
   "metadata": {},
   "source": [
    "### Operations on Tensors"
   ]
  },
  {
   "cell_type": "code",
   "execution_count": 38,
   "id": "21675be2",
   "metadata": {},
   "outputs": [],
   "source": [
    "x = tf.range(5,10)\n",
    "y = tf.range(11,16)"
   ]
  },
  {
   "cell_type": "code",
   "execution_count": 39,
   "id": "1c27b9eb",
   "metadata": {},
   "outputs": [
    {
     "data": {
      "text/plain": [
       "(<tf.Tensor: shape=(5,), dtype=int32, numpy=array([5, 6, 7, 8, 9], dtype=int32)>,\n",
       " <tf.Tensor: shape=(5,), dtype=int32, numpy=array([11, 12, 13, 14, 15], dtype=int32)>)"
      ]
     },
     "execution_count": 39,
     "metadata": {},
     "output_type": "execute_result"
    }
   ],
   "source": [
    "x, y"
   ]
  },
  {
   "cell_type": "code",
   "execution_count": 40,
   "id": "623848f5",
   "metadata": {},
   "outputs": [
    {
     "data": {
      "text/plain": [
       "(<tf.Tensor: shape=(5,), dtype=int32, numpy=array([16, 18, 20, 22, 24], dtype=int32)>,\n",
       " <tf.Tensor: shape=(5,), dtype=int32, numpy=array([-6, -6, -6, -6, -6], dtype=int32)>,\n",
       " <tf.Tensor: shape=(5,), dtype=int32, numpy=array([ 55,  72,  91, 112, 135], dtype=int32)>,\n",
       " <tf.Tensor: shape=(5,), dtype=float64, numpy=array([0.45454545, 0.5       , 0.53846154, 0.57142857, 0.6       ])>,\n",
       " <tf.Tensor: shape=(5,), dtype=int32, numpy=\n",
       " array([   48828125, -2118184960, -1895237401,           0, -1010140999],\n",
       "       dtype=int32)>)"
      ]
     },
     "execution_count": 40,
     "metadata": {},
     "output_type": "execute_result"
    }
   ],
   "source": [
    "x+y, x-y, x*y, x/y, x**y"
   ]
  },
  {
   "cell_type": "code",
   "execution_count": 41,
   "id": "3a4d73e9",
   "metadata": {},
   "outputs": [
    {
     "data": {
      "text/plain": [
       "<tf.Tensor: shape=(), dtype=float32, numpy=244.69194>"
      ]
     },
     "execution_count": 41,
     "metadata": {},
     "output_type": "execute_result"
    }
   ],
   "source": [
    "tf.math.exp(5.5)"
   ]
  },
  {
   "cell_type": "markdown",
   "id": "ae3742de",
   "metadata": {},
   "source": [
    "we can also concatenate multiple tensors to form a larger tensor. \n",
    "\n",
    "axis 0 -> first element of tf.shape\n",
    "\n",
    "axis 1 -> second element of tf.shape"
   ]
  },
  {
   "cell_type": "code",
   "execution_count": 42,
   "id": "8bfe45e6",
   "metadata": {},
   "outputs": [],
   "source": [
    "x = tf.reshape(tf.range(12, dtype = tf.float32), (3, 4))\n",
    "y = tf.reshape(tf.range(12, 24, dtype = tf.float32), (3, 4))"
   ]
  },
  {
   "cell_type": "code",
   "execution_count": 43,
   "id": "26ad89e5",
   "metadata": {},
   "outputs": [
    {
     "data": {
      "text/plain": [
       "<tf.Tensor: shape=(6, 4), dtype=float32, numpy=\n",
       "array([[ 0.,  1.,  2.,  3.],\n",
       "       [ 4.,  5.,  6.,  7.],\n",
       "       [ 8.,  9., 10., 11.],\n",
       "       [12., 13., 14., 15.],\n",
       "       [16., 17., 18., 19.],\n",
       "       [20., 21., 22., 23.]], dtype=float32)>"
      ]
     },
     "execution_count": 43,
     "metadata": {},
     "output_type": "execute_result"
    }
   ],
   "source": [
    "tf.concat([x, y], axis = 0)"
   ]
  },
  {
   "cell_type": "code",
   "execution_count": 44,
   "id": "e848607d",
   "metadata": {},
   "outputs": [
    {
     "data": {
      "text/plain": [
       "<tf.Tensor: shape=(3, 8), dtype=float32, numpy=\n",
       "array([[ 0.,  1.,  2.,  3., 12., 13., 14., 15.],\n",
       "       [ 4.,  5.,  6.,  7., 16., 17., 18., 19.],\n",
       "       [ 8.,  9., 10., 11., 20., 21., 22., 23.]], dtype=float32)>"
      ]
     },
     "execution_count": 44,
     "metadata": {},
     "output_type": "execute_result"
    }
   ],
   "source": [
    "tf.concat([x, y], axis = 1)"
   ]
  },
  {
   "cell_type": "markdown",
   "id": "94004b4b",
   "metadata": {},
   "source": [
    "we can create binary tensors using comparision operators"
   ]
  },
  {
   "cell_type": "code",
   "execution_count": 45,
   "id": "7f4f23fd",
   "metadata": {},
   "outputs": [
    {
     "data": {
      "text/plain": [
       "<tf.Tensor: shape=(3, 4), dtype=bool, numpy=\n",
       "array([[False, False, False, False],\n",
       "       [False, False, False, False],\n",
       "       [False, False, False, False]])>"
      ]
     },
     "execution_count": 45,
     "metadata": {},
     "output_type": "execute_result"
    }
   ],
   "source": [
    "x == y "
   ]
  },
  {
   "cell_type": "markdown",
   "id": "8d19b1a3",
   "metadata": {},
   "source": [
    "summing all elements in tensors yields tensor with only one element"
   ]
  },
  {
   "cell_type": "code",
   "execution_count": 46,
   "id": "3dc03264",
   "metadata": {},
   "outputs": [
    {
     "data": {
      "text/plain": [
       "<tf.Tensor: shape=(), dtype=float32, numpy=66.0>"
      ]
     },
     "execution_count": 46,
     "metadata": {},
     "output_type": "execute_result"
    }
   ],
   "source": [
    "tf.reduce_sum(x)"
   ]
  },
  {
   "cell_type": "markdown",
   "id": "69e98ad8",
   "metadata": {},
   "source": [
    "### Broadcasting Mechanism"
   ]
  },
  {
   "cell_type": "markdown",
   "id": "d75ec490",
   "metadata": {},
   "source": [
    "broadcasting : lets operations be performed on tensors of uneven size by expanding one or both tensors to a compatible shape"
   ]
  },
  {
   "cell_type": "code",
   "execution_count": 47,
   "id": "540fc0b0",
   "metadata": {},
   "outputs": [
    {
     "data": {
      "text/plain": [
       "<tf.Tensor: shape=(3, 1), dtype=int32, numpy=\n",
       "array([[0],\n",
       "       [1],\n",
       "       [2]], dtype=int32)>"
      ]
     },
     "execution_count": 47,
     "metadata": {},
     "output_type": "execute_result"
    }
   ],
   "source": [
    "a = tf.reshape(tf.range(3), (3, 1))\n",
    "a"
   ]
  },
  {
   "cell_type": "code",
   "execution_count": 48,
   "id": "20adf0d7",
   "metadata": {},
   "outputs": [
    {
     "data": {
      "text/plain": [
       "<tf.Tensor: shape=(1, 2), dtype=int32, numpy=array([[0, 1]], dtype=int32)>"
      ]
     },
     "execution_count": 48,
     "metadata": {},
     "output_type": "execute_result"
    }
   ],
   "source": [
    "b = tf.reshape(tf.range(2), (1, 2))\n",
    "b"
   ]
  },
  {
   "cell_type": "code",
   "execution_count": 49,
   "id": "ef254607",
   "metadata": {},
   "outputs": [
    {
     "data": {
      "text/plain": [
       "<tf.Tensor: shape=(3, 2), dtype=int32, numpy=\n",
       "array([[0, 1],\n",
       "       [1, 2],\n",
       "       [2, 3]], dtype=int32)>"
      ]
     },
     "execution_count": 49,
     "metadata": {},
     "output_type": "execute_result"
    }
   ],
   "source": [
    "a + b"
   ]
  },
  {
   "cell_type": "markdown",
   "id": "4613bcd9",
   "metadata": {},
   "source": [
    "indexing is just like in normal python lists"
   ]
  },
  {
   "cell_type": "markdown",
   "id": "5f1b86ef",
   "metadata": {},
   "source": [
    "### Saving Memory"
   ]
  },
  {
   "cell_type": "markdown",
   "id": "f30aceb5",
   "metadata": {},
   "source": [
    "executing operations on tensors can sometimes cause the result to be hosted at a different memory locaiton. \n",
    "\n",
    "this is undesirable because we want to make optimal usage of memory and there might be hundreds of operations left. \n",
    "\n",
    "so we want to perform these operations _in place_ \n",
    "\n",
    "if this is not done, other references will still point to the old location leading to references to stale parameters "
   ]
  },
  {
   "cell_type": "code",
   "execution_count": 50,
   "id": "6e85a358",
   "metadata": {},
   "outputs": [
    {
     "name": "stdout",
     "output_type": "stream",
     "text": [
      "140559534111632\n",
      "140559534112400\n",
      "140559534110864\n"
     ]
    }
   ],
   "source": [
    "x = tf.range(12)\n",
    "y = tf.range(13, 25)\n",
    "print(id(x))\n",
    "print(id(y))\n",
    "y = x + y\n",
    "print(id(y))"
   ]
  },
  {
   "cell_type": "code",
   "execution_count": 51,
   "id": "c5cb6c1e",
   "metadata": {},
   "outputs": [
    {
     "name": "stdout",
     "output_type": "stream",
     "text": [
      "140559382291984\n",
      "140559382291984\n"
     ]
    }
   ],
   "source": [
    "z = tf.Variable(tf.zeros_like(y))\n",
    "print(id(z))\n",
    "z.assign(x + y)\n",
    "print(id(z))"
   ]
  },
  {
   "cell_type": "markdown",
   "id": "3e425d2c",
   "metadata": {},
   "source": [
    "even when tf.Variable is used, it is better not to use it when not needed because, tensorflow tensors are immutable and gradients do not flow through variable assignments.\n",
    "\n",
    "but tensorflow provides tf.function decorator to wrap computation inside a tensorflow graph that gets compiled and optimized before running. \n",
    "\n",
    "this allows tf to prune unused values and reuse prior allocations and no longer needed. \n",
    "\n",
    "this minimizes the memory overhead of tensorflow computations"
   ]
  },
  {
   "cell_type": "code",
   "execution_count": 52,
   "id": "e26d5d8d",
   "metadata": {},
   "outputs": [
    {
     "data": {
      "text/plain": [
       "<tf.Tensor: shape=(12,), dtype=int32, numpy=\n",
       "array([ 52,  61,  70,  79,  88,  97, 106, 115, 124, 133, 142, 151],\n",
       "      dtype=int32)>"
      ]
     },
     "execution_count": 52,
     "metadata": {},
     "output_type": "execute_result"
    }
   ],
   "source": [
    "@tf.function\n",
    "def computation(x, y):\n",
    "    z = tf.zeros_like(y)\n",
    "    a = x+y\n",
    "    b = a+y\n",
    "    c = b+y\n",
    "    return c+y\n",
    "\n",
    "computation(x, y)"
   ]
  },
  {
   "cell_type": "markdown",
   "id": "0b89d760",
   "metadata": {},
   "source": [
    "when tensorflow arrays are converted to other datatypes (ndarrays for ex) they do not share memory. this detail needs more attention as it could lead to computation halts because the memory is being used by numpy when needed"
   ]
  },
  {
   "cell_type": "code",
   "execution_count": 53,
   "id": "68b49602",
   "metadata": {},
   "outputs": [
    {
     "data": {
      "text/plain": [
       "(numpy.ndarray, tensorflow.python.framework.ops.EagerTensor)"
      ]
     },
     "execution_count": 53,
     "metadata": {},
     "output_type": "execute_result"
    }
   ],
   "source": [
    "a = x.numpy()\n",
    "b = tf.constant(a)\n",
    "type(a), type(b)"
   ]
  },
  {
   "cell_type": "markdown",
   "id": "a08622c8",
   "metadata": {},
   "source": [
    "to convert a size 1 tensor to a python scalar, we use item function or other python functions"
   ]
  },
  {
   "cell_type": "code",
   "execution_count": 54,
   "id": "0b7e77fe",
   "metadata": {},
   "outputs": [
    {
     "data": {
      "text/plain": [
       "(array([3.5], dtype=float32), 3.5, 3.5, 3)"
      ]
     },
     "execution_count": 54,
     "metadata": {},
     "output_type": "execute_result"
    }
   ],
   "source": [
    "a = tf.constant([3.5]).numpy()\n",
    "a, a.item(), float(a), int(a)"
   ]
  },
  {
   "cell_type": "markdown",
   "id": "65e2496f",
   "metadata": {},
   "source": [
    "## Data Preprocessing"
   ]
  },
  {
   "cell_type": "markdown",
   "id": "3cfc096d",
   "metadata": {},
   "source": [
    "creating temp dataset"
   ]
  },
  {
   "cell_type": "code",
   "execution_count": 66,
   "id": "0b3312fd",
   "metadata": {},
   "outputs": [],
   "source": [
    "import os\n",
    "\n",
    "os.makedirs(os.path.join('..', 'data'), exist_ok=True)\n",
    "data_file = os.path.join('..', 'data', 'house_tiny.csv')\n",
    "with open(data_file, 'w') as f:\n",
    "    f.write('NumRooms,Alley,Price\\n')  # Column names\n",
    "    f.write('NA,Pave,127500\\n')  # Each row represents a data example\n",
    "    f.write('2,NA,106000\\n')\n",
    "    f.write('4,NA,178100\\n')\n",
    "    f.write('NA,NA,140000\\n')"
   ]
  },
  {
   "cell_type": "code",
   "execution_count": 79,
   "id": "a9190c07",
   "metadata": {},
   "outputs": [
    {
     "name": "stdout",
     "output_type": "stream",
     "text": [
      "   NumRooms Alley   Price\n",
      "0       NaN  Pave  127500\n",
      "1       2.0   NaN  106000\n",
      "2       4.0   NaN  178100\n",
      "3       NaN   NaN  140000\n"
     ]
    }
   ],
   "source": [
    "import pandas as pd\n",
    "\n",
    "data = pd.read_csv(data_file)\n",
    "print(data)"
   ]
  },
  {
   "cell_type": "code",
   "execution_count": 68,
   "id": "e27235b8",
   "metadata": {},
   "outputs": [
    {
     "name": "stdout",
     "output_type": "stream",
     "text": [
      "   NumRooms Alley\n",
      "0       3.0  Pave\n",
      "1       2.0   NaN\n",
      "2       4.0   NaN\n",
      "3       3.0   NaN\n"
     ]
    },
    {
     "name": "stderr",
     "output_type": "stream",
     "text": [
      "/home/asrjy/miniconda3/envs/ml/lib/python3.7/site-packages/ipykernel_launcher.py:2: FutureWarning: Dropping of nuisance columns in DataFrame reductions (with 'numeric_only=None') is deprecated; in a future version this will raise TypeError.  Select only valid columns before calling the reduction.\n",
      "  \n"
     ]
    }
   ],
   "source": [
    "inputs, outputs = data.iloc[:, 0:2], data.iloc[:, 2]\n",
    "inputs = inputs.fillna(inputs.mean())\n",
    "print(inputs)"
   ]
  },
  {
   "cell_type": "code",
   "execution_count": 71,
   "id": "4950c6cd",
   "metadata": {},
   "outputs": [
    {
     "name": "stdout",
     "output_type": "stream",
     "text": [
      "   NumRooms Alley\n",
      "0       3.0  Pave\n",
      "1       2.0   NaN\n",
      "2       4.0   NaN\n",
      "3       3.0   NaN\n"
     ]
    }
   ],
   "source": [
    "inputs, outputs = data.iloc[:, 0:2], data.iloc[:, 2]\n",
    "inputs['NumRooms'] = inputs['NumRooms'].fillna(inputs['NumRooms'].mean())\n",
    "print(inputs)"
   ]
  },
  {
   "cell_type": "code",
   "execution_count": 76,
   "id": "02c08cfa",
   "metadata": {},
   "outputs": [
    {
     "name": "stdout",
     "output_type": "stream",
     "text": [
      "   NumRooms  Alley_Pave  Alley_nan\n",
      "0       3.0           1          0\n",
      "1       2.0           0          1\n",
      "2       4.0           0          1\n",
      "3       3.0           0          1\n"
     ]
    }
   ],
   "source": [
    "inputs = pd.get_dummies(inputs, dummy_na=True)\n",
    "print(inputs)"
   ]
  },
  {
   "cell_type": "code",
   "execution_count": 77,
   "id": "adcc6f96",
   "metadata": {},
   "outputs": [
    {
     "data": {
      "text/plain": [
       "(<tf.Tensor: shape=(4, 3), dtype=float64, numpy=\n",
       " array([[3., 1., 0.],\n",
       "        [2., 0., 1.],\n",
       "        [4., 0., 1.],\n",
       "        [3., 0., 1.]])>,\n",
       " <tf.Tensor: shape=(4,), dtype=int64, numpy=array([127500, 106000, 178100, 140000])>)"
      ]
     },
     "execution_count": 77,
     "metadata": {},
     "output_type": "execute_result"
    }
   ],
   "source": [
    "X, y = tf.constant(inputs.values), tf.constant(outputs.values)\n",
    "X, y"
   ]
  },
  {
   "cell_type": "markdown",
   "id": "f8b04eda",
   "metadata": {},
   "source": [
    "### Exercises"
   ]
  },
  {
   "cell_type": "code",
   "execution_count": 85,
   "id": "4b405a04",
   "metadata": {},
   "outputs": [
    {
     "name": "stdout",
     "output_type": "stream",
     "text": [
      "   NumRooms Alley\n",
      "0       3.0  Pave\n",
      "1       2.0   NaN\n",
      "2       4.0   NaN\n",
      "3       3.0   NaN\n"
     ]
    }
   ],
   "source": [
    "data = pd.read_csv(data_file)\n",
    "inputs, outputs = data.iloc[:, 0:2], data.iloc[:, 2]\n",
    "inputs['NumRooms'] = inputs['NumRooms'].fillna(inputs['NumRooms'].mean())\n",
    "print(inputs)"
   ]
  },
  {
   "cell_type": "code",
   "execution_count": 86,
   "id": "e4f824d5",
   "metadata": {},
   "outputs": [],
   "source": [
    "inputs = inputs.drop('Alley', axis = 1)"
   ]
  },
  {
   "cell_type": "code",
   "execution_count": 90,
   "id": "164be901",
   "metadata": {},
   "outputs": [
    {
     "data": {
      "text/plain": [
       "<tf.Tensor: shape=(4, 1), dtype=float64, numpy=\n",
       "array([[3.],\n",
       "       [2.],\n",
       "       [4.],\n",
       "       [3.]])>"
      ]
     },
     "execution_count": 90,
     "metadata": {},
     "output_type": "execute_result"
    }
   ],
   "source": [
    "X = tf.constant(inputs)\n",
    "X"
   ]
  },
  {
   "cell_type": "markdown",
   "id": "61f15761",
   "metadata": {},
   "source": [
    "## Linear Algebra"
   ]
  },
  {
   "cell_type": "code",
   "execution_count": null,
   "id": "fde22ff2",
   "metadata": {},
   "outputs": [],
   "source": [
    "x ∈ R means x in R\n",
    "\n",
    "scalar in tensorflow = tensor with just one element"
   ]
  },
  {
   "cell_type": "code",
   "execution_count": 91,
   "id": "b2d50b28",
   "metadata": {},
   "outputs": [
    {
     "data": {
      "text/plain": [
       "(<tf.Tensor: shape=(), dtype=float32, numpy=8.0>,\n",
       " <tf.Tensor: shape=(), dtype=float32, numpy=-2.0>,\n",
       " <tf.Tensor: shape=(), dtype=float32, numpy=15.0>,\n",
       " <tf.Tensor: shape=(), dtype=float32, numpy=0.6>,\n",
       " <tf.Tensor: shape=(), dtype=float32, numpy=242.99998>)"
      ]
     },
     "execution_count": 91,
     "metadata": {},
     "output_type": "execute_result"
    }
   ],
   "source": [
    "x = tf.constant(3.0)\n",
    "y = tf.constant(5.0)\n",
    "\n",
    "x+y, x-y, x*y, x/y, x**y"
   ]
  },
  {
   "cell_type": "markdown",
   "id": "db045997",
   "metadata": {},
   "source": [
    "vector = list of scalar values. "
   ]
  },
  {
   "cell_type": "code",
   "execution_count": 93,
   "id": "20b082d2",
   "metadata": {},
   "outputs": [
    {
     "data": {
      "text/plain": [
       "<tf.Tensor: shape=(4,), dtype=int32, numpy=array([0, 1, 2, 3], dtype=int32)>"
      ]
     },
     "execution_count": 93,
     "metadata": {},
     "output_type": "execute_result"
    }
   ],
   "source": [
    "x = tf.range(4)\n",
    "x"
   ]
  },
  {
   "cell_type": "markdown",
   "id": "5781d46e",
   "metadata": {},
   "source": [
    "if it's a normal list, we would use len(), but for tensors we use x.shape"
   ]
  },
  {
   "cell_type": "code",
   "execution_count": 94,
   "id": "05a6b849",
   "metadata": {},
   "outputs": [
    {
     "data": {
      "text/plain": [
       "TensorShape([4])"
      ]
     },
     "execution_count": 94,
     "metadata": {},
     "output_type": "execute_result"
    }
   ],
   "source": [
    "x.shape"
   ]
  },
  {
   "cell_type": "markdown",
   "id": "4f688271",
   "metadata": {},
   "source": [
    "generally, uppercase letters are used to denote matrices. \n",
    "\n",
    "mathematically, we represent them as: A∈Rm×n \n",
    "\n",
    "square matrix => m = n"
   ]
  },
  {
   "cell_type": "code",
   "execution_count": 95,
   "id": "afb8336c",
   "metadata": {},
   "outputs": [
    {
     "data": {
      "text/plain": [
       "<tf.Tensor: shape=(5, 4), dtype=int32, numpy=\n",
       "array([[ 0,  1,  2,  3],\n",
       "       [ 4,  5,  6,  7],\n",
       "       [ 8,  9, 10, 11],\n",
       "       [12, 13, 14, 15],\n",
       "       [16, 17, 18, 19]], dtype=int32)>"
      ]
     },
     "execution_count": 95,
     "metadata": {},
     "output_type": "execute_result"
    }
   ],
   "source": [
    "A = tf.reshape(tf.range(20), (5, 4))\n",
    "A"
   ]
  },
  {
   "cell_type": "markdown",
   "id": "bfa23f60",
   "metadata": {},
   "source": [
    "tf.transpose(A) to calculate transpose of matrix. "
   ]
  },
  {
   "cell_type": "code",
   "execution_count": 96,
   "id": "3141b65f",
   "metadata": {},
   "outputs": [
    {
     "data": {
      "text/plain": [
       "<tf.Tensor: shape=(4, 5), dtype=int32, numpy=\n",
       "array([[ 0,  4,  8, 12, 16],\n",
       "       [ 1,  5,  9, 13, 17],\n",
       "       [ 2,  6, 10, 14, 18],\n",
       "       [ 3,  7, 11, 15, 19]], dtype=int32)>"
      ]
     },
     "execution_count": 96,
     "metadata": {},
     "output_type": "execute_result"
    }
   ],
   "source": [
    "tf.transpose(A)"
   ]
  },
  {
   "cell_type": "markdown",
   "id": "7966a475",
   "metadata": {},
   "source": [
    "just as vectors generalize scalars, matrices generalizes vectors, tensors are used to add more dimensions thus generalizing matrices. "
   ]
  },
  {
   "cell_type": "code",
   "execution_count": 97,
   "id": "48abc816",
   "metadata": {},
   "outputs": [
    {
     "data": {
      "text/plain": [
       "<tf.Tensor: shape=(2, 5, 4), dtype=int32, numpy=\n",
       "array([[[ 0,  1,  2,  3],\n",
       "        [ 4,  5,  6,  7],\n",
       "        [ 8,  9, 10, 11],\n",
       "        [12, 13, 14, 15],\n",
       "        [16, 17, 18, 19]],\n",
       "\n",
       "       [[20, 21, 22, 23],\n",
       "        [24, 25, 26, 27],\n",
       "        [28, 29, 30, 31],\n",
       "        [32, 33, 34, 35],\n",
       "        [36, 37, 38, 39]]], dtype=int32)>"
      ]
     },
     "execution_count": 97,
     "metadata": {},
     "output_type": "execute_result"
    }
   ],
   "source": [
    "T = tf.reshape(tf.range(40), (2,5,4))\n",
    "T"
   ]
  },
  {
   "cell_type": "markdown",
   "id": "e7e39112",
   "metadata": {},
   "source": [
    "2 = number of tensors\n",
    "\n",
    "5 = number of rows in each matrix\n",
    "\n",
    "4 = number of columns in each matrix"
   ]
  },
  {
   "cell_type": "code",
   "execution_count": 98,
   "id": "1b0d0b05",
   "metadata": {},
   "outputs": [
    {
     "data": {
      "text/plain": [
       "(<tf.Tensor: shape=(5, 4), dtype=float32, numpy=\n",
       " array([[ 0.,  1.,  2.,  3.],\n",
       "        [ 4.,  5.,  6.,  7.],\n",
       "        [ 8.,  9., 10., 11.],\n",
       "        [12., 13., 14., 15.],\n",
       "        [16., 17., 18., 19.]], dtype=float32)>,\n",
       " <tf.Tensor: shape=(5, 4), dtype=float32, numpy=\n",
       " array([[ 0.,  2.,  4.,  6.],\n",
       "        [ 8., 10., 12., 14.],\n",
       "        [16., 18., 20., 22.],\n",
       "        [24., 26., 28., 30.],\n",
       "        [32., 34., 36., 38.]], dtype=float32)>)"
      ]
     },
     "execution_count": 98,
     "metadata": {},
     "output_type": "execute_result"
    }
   ],
   "source": [
    "A = tf.reshape(tf.range(20, dtype = tf.float32), (5, 4))\n",
    "B = A\n",
    "A, A+B"
   ]
  },
  {
   "cell_type": "markdown",
   "id": "d65d0a8d",
   "metadata": {},
   "source": [
    "no new memory is allocated to B above"
   ]
  },
  {
   "cell_type": "code",
   "execution_count": 101,
   "id": "6458b781",
   "metadata": {},
   "outputs": [
    {
     "data": {
      "text/plain": [
       "(140557710455440, 140557710455440)"
      ]
     },
     "execution_count": 101,
     "metadata": {},
     "output_type": "execute_result"
    }
   ],
   "source": [
    "id(A), id(B)"
   ]
  },
  {
   "cell_type": "markdown",
   "id": "cd08bdb3",
   "metadata": {},
   "source": [
    "hadamard product = elementwise product"
   ]
  },
  {
   "cell_type": "code",
   "execution_count": 102,
   "id": "5cede3a4",
   "metadata": {},
   "outputs": [
    {
     "data": {
      "text/plain": [
       "<tf.Tensor: shape=(5, 4), dtype=float32, numpy=\n",
       "array([[  0.,   1.,   4.,   9.],\n",
       "       [ 16.,  25.,  36.,  49.],\n",
       "       [ 64.,  81., 100., 121.],\n",
       "       [144., 169., 196., 225.],\n",
       "       [256., 289., 324., 361.]], dtype=float32)>"
      ]
     },
     "execution_count": 102,
     "metadata": {},
     "output_type": "execute_result"
    }
   ],
   "source": [
    "A * B"
   ]
  },
  {
   "cell_type": "markdown",
   "id": "333613ef",
   "metadata": {},
   "source": [
    "tf.reduce_sum() to calculate sum of all elements of tensor"
   ]
  },
  {
   "cell_type": "code",
   "execution_count": 103,
   "id": "30d2c34c",
   "metadata": {},
   "outputs": [
    {
     "data": {
      "text/plain": [
       "<tf.Tensor: shape=(), dtype=int32, numpy=4950>"
      ]
     },
     "execution_count": 103,
     "metadata": {},
     "output_type": "execute_result"
    }
   ],
   "source": [
    "A = tf.reshape(tf.range(100), (2,5,10))\n",
    "tf.reduce_sum(A)"
   ]
  },
  {
   "cell_type": "markdown",
   "id": "c58d3491",
   "metadata": {},
   "source": [
    "we can also specify an axis along which it needs to be reduced"
   ]
  },
  {
   "cell_type": "code",
   "execution_count": 105,
   "id": "fb23bb8a",
   "metadata": {},
   "outputs": [
    {
     "data": {
      "text/plain": [
       "(<tf.Tensor: shape=(5, 10), dtype=int32, numpy=\n",
       " array([[ 50,  52,  54,  56,  58,  60,  62,  64,  66,  68],\n",
       "        [ 70,  72,  74,  76,  78,  80,  82,  84,  86,  88],\n",
       "        [ 90,  92,  94,  96,  98, 100, 102, 104, 106, 108],\n",
       "        [110, 112, 114, 116, 118, 120, 122, 124, 126, 128],\n",
       "        [130, 132, 134, 136, 138, 140, 142, 144, 146, 148]], dtype=int32)>,\n",
       " <tf.Tensor: shape=(2, 10), dtype=int32, numpy=\n",
       " array([[100, 105, 110, 115, 120, 125, 130, 135, 140, 145],\n",
       "        [350, 355, 360, 365, 370, 375, 380, 385, 390, 395]], dtype=int32)>,\n",
       " <tf.Tensor: shape=(2, 5), dtype=int32, numpy=\n",
       " array([[ 45, 145, 245, 345, 445],\n",
       "        [545, 645, 745, 845, 945]], dtype=int32)>)"
      ]
     },
     "execution_count": 105,
     "metadata": {},
     "output_type": "execute_result"
    }
   ],
   "source": [
    "tf.reduce_sum(A, axis = 0), tf.reduce_sum(A, axis = 1), tf.reduce_sum(A, axis = 2)"
   ]
  },
  {
   "cell_type": "markdown",
   "id": "b7ba9ad5",
   "metadata": {},
   "source": [
    "reducing a matrix along all axes is equivalent to sum of all elements aka reduce_sum without axis parameter"
   ]
  },
  {
   "cell_type": "code",
   "execution_count": 106,
   "id": "7b907f20",
   "metadata": {},
   "outputs": [
    {
     "data": {
      "text/plain": [
       "<tf.Tensor: shape=(), dtype=int32, numpy=4950>"
      ]
     },
     "execution_count": 106,
     "metadata": {},
     "output_type": "execute_result"
    }
   ],
   "source": [
    "tf.reduce_sum(A, [0, 1, 2])"
   ]
  },
  {
   "cell_type": "code",
   "execution_count": null,
   "id": "e20aef9f",
   "metadata": {},
   "outputs": [],
   "source": []
  }
 ],
 "metadata": {
  "kernelspec": {
   "display_name": "Python 3 (ipykernel)",
   "language": "python",
   "name": "python3"
  },
  "language_info": {
   "codemirror_mode": {
    "name": "ipython",
    "version": 3
   },
   "file_extension": ".py",
   "mimetype": "text/x-python",
   "name": "python",
   "nbconvert_exporter": "python",
   "pygments_lexer": "ipython3",
   "version": "3.7.6"
  }
 },
 "nbformat": 4,
 "nbformat_minor": 5
}
